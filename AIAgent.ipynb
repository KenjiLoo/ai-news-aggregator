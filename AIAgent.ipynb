{
  "nbformat": 4,
  "nbformat_minor": 0,
  "metadata": {
    "colab": {
      "provenance": [],
      "authorship_tag": "ABX9TyO4rrOjs1ECyXWFBlVluIJ9",
      "include_colab_link": true
    },
    "kernelspec": {
      "name": "python3",
      "display_name": "Python 3"
    },
    "language_info": {
      "name": "python"
    }
  },
  "cells": [
    {
      "cell_type": "markdown",
      "metadata": {
        "id": "view-in-github",
        "colab_type": "text"
      },
      "source": [
        "<a href=\"https://colab.research.google.com/github/KenjiLoo/ai-news-aggregator/blob/main/AIAgent.ipynb\" target=\"_parent\"><img src=\"https://colab.research.google.com/assets/colab-badge.svg\" alt=\"Open In Colab\"/></a>"
      ]
    },
    {
      "cell_type": "code",
      "execution_count": 1,
      "metadata": {
        "colab": {
          "base_uri": "https://localhost:8080/"
        },
        "id": "472oAdJ8l2_B",
        "outputId": "d62974a1-561d-43ee-d5e0-9bb6d0b9000c"
      },
      "outputs": [
        {
          "output_type": "stream",
          "name": "stdout",
          "text": [
            "\u001b[2K     \u001b[90m━━━━━━━━━━━━━━━━━━━━━━━━━━━━━━━━━━━━━━━━\u001b[0m \u001b[32m51.0/51.0 kB\u001b[0m \u001b[31m1.5 MB/s\u001b[0m eta \u001b[36m0:00:00\u001b[0m\n",
            "\u001b[2K     \u001b[90m━━━━━━━━━━━━━━━━━━━━━━━━━━━━━━━━━━━━━━━━\u001b[0m \u001b[32m810.5/810.5 kB\u001b[0m \u001b[31m14.6 MB/s\u001b[0m eta \u001b[36m0:00:00\u001b[0m\n",
            "\u001b[2K     \u001b[90m━━━━━━━━━━━━━━━━━━━━━━━━━━━━━━━━━━━━━━━━\u001b[0m \u001b[32m262.9/262.9 kB\u001b[0m \u001b[31m25.8 MB/s\u001b[0m eta \u001b[36m0:00:00\u001b[0m\n",
            "\u001b[2K     \u001b[90m━━━━━━━━━━━━━━━━━━━━━━━━━━━━━━━━━━━━━━━━\u001b[0m \u001b[32m60.1/60.1 kB\u001b[0m \u001b[31m6.9 MB/s\u001b[0m eta \u001b[36m0:00:00\u001b[0m\n",
            "\u001b[2K     \u001b[90m━━━━━━━━━━━━━━━━━━━━━━━━━━━━━━━━━━━━━━━━\u001b[0m \u001b[32m106.1/106.1 kB\u001b[0m \u001b[31m13.5 MB/s\u001b[0m eta \u001b[36m0:00:00\u001b[0m\n",
            "\u001b[2K     \u001b[90m━━━━━━━━━━━━━━━━━━━━━━━━━━━━━━━━━━━━━━━━\u001b[0m \u001b[32m1.8/1.8 MB\u001b[0m \u001b[31m49.7 MB/s\u001b[0m eta \u001b[36m0:00:00\u001b[0m\n",
            "\u001b[2K     \u001b[90m━━━━━━━━━━━━━━━━━━━━━━━━━━━━━━━━━━━━━━━━\u001b[0m \u001b[32m273.9/273.9 kB\u001b[0m \u001b[31m23.0 MB/s\u001b[0m eta \u001b[36m0:00:00\u001b[0m\n",
            "\u001b[2K     \u001b[90m━━━━━━━━━━━━━━━━━━━━━━━━━━━━━━━━━━━━━━━━\u001b[0m \u001b[32m86.9/86.9 kB\u001b[0m \u001b[31m11.4 MB/s\u001b[0m eta \u001b[36m0:00:00\u001b[0m\n",
            "\u001b[2K     \u001b[90m━━━━━━━━━━━━━━━━━━━━━━━━━━━━━━━━━━━━━━━━\u001b[0m \u001b[32m2.0/2.0 MB\u001b[0m \u001b[31m76.6 MB/s\u001b[0m eta \u001b[36m0:00:00\u001b[0m\n",
            "\u001b[2K     \u001b[90m━━━━━━━━━━━━━━━━━━━━━━━━━━━━━━━━━━━━━━━━\u001b[0m \u001b[32m75.6/75.6 kB\u001b[0m \u001b[31m10.5 MB/s\u001b[0m eta \u001b[36m0:00:00\u001b[0m\n",
            "\u001b[2K     \u001b[90m━━━━━━━━━━━━━━━━━━━━━━━━━━━━━━━━━━━━━━━━\u001b[0m \u001b[32m50.8/50.8 kB\u001b[0m \u001b[31m6.9 MB/s\u001b[0m eta \u001b[36m0:00:00\u001b[0m\n",
            "\u001b[2K     \u001b[90m━━━━━━━━━━━━━━━━━━━━━━━━━━━━━━━━━━━━━━━━\u001b[0m \u001b[32m49.4/49.4 kB\u001b[0m \u001b[31m6.6 MB/s\u001b[0m eta \u001b[36m0:00:00\u001b[0m\n",
            "\u001b[2K     \u001b[90m━━━━━━━━━━━━━━━━━━━━━━━━━━━━━━━━━━━━━━━━\u001b[0m \u001b[32m77.9/77.9 kB\u001b[0m \u001b[31m11.3 MB/s\u001b[0m eta \u001b[36m0:00:00\u001b[0m\n",
            "\u001b[2K     \u001b[90m━━━━━━━━━━━━━━━━━━━━━━━━━━━━━━━━━━━━━━━━\u001b[0m \u001b[32m58.3/58.3 kB\u001b[0m \u001b[31m7.8 MB/s\u001b[0m eta \u001b[36m0:00:00\u001b[0m\n",
            "\u001b[2K     \u001b[90m━━━━━━━━━━━━━━━━━━━━━━━━━━━━━━━━━━━━━━━━\u001b[0m \u001b[32m53.0/53.0 kB\u001b[0m \u001b[31m6.9 MB/s\u001b[0m eta \u001b[36m0:00:00\u001b[0m\n",
            "\u001b[2K     \u001b[90m━━━━━━━━━━━━━━━━━━━━━━━━━━━━━━━━━━━━━━━━\u001b[0m \u001b[32m144.8/144.8 kB\u001b[0m \u001b[31m17.9 MB/s\u001b[0m eta \u001b[36m0:00:00\u001b[0m\n",
            "\u001b[?25h"
          ]
        }
      ],
      "source": [
        "!pip install -q crewai"
      ]
    },
    {
      "cell_type": "code",
      "source": [
        "!pip install -q 'crewai[tools]'"
      ],
      "metadata": {
        "colab": {
          "base_uri": "https://localhost:8080/"
        },
        "id": "pqzVT9lgmU_B",
        "outputId": "a44294af-5b58-49f5-cd19-49a8e7fef3d6"
      },
      "execution_count": 2,
      "outputs": [
        {
          "output_type": "stream",
          "name": "stdout",
          "text": [
            "\u001b[2K     \u001b[90m━━━━━━━━━━━━━━━━━━━━━━━━━━━━━━━━━━━━━━━━\u001b[0m \u001b[32m525.5/525.5 kB\u001b[0m \u001b[31m8.6 MB/s\u001b[0m eta \u001b[36m0:00:00\u001b[0m\n",
            "\u001b[2K     \u001b[90m━━━━━━━━━━━━━━━━━━━━━━━━━━━━━━━━━━━━━━━━\u001b[0m \u001b[32m191.4/191.4 kB\u001b[0m \u001b[31m22.5 MB/s\u001b[0m eta \u001b[36m0:00:00\u001b[0m\n",
            "\u001b[2K     \u001b[90m━━━━━━━━━━━━━━━━━━━━━━━━━━━━━━━━━━━━━━━━\u001b[0m \u001b[32m115.1/115.1 kB\u001b[0m \u001b[31m14.7 MB/s\u001b[0m eta \u001b[36m0:00:00\u001b[0m\n",
            "\u001b[2K     \u001b[90m━━━━━━━━━━━━━━━━━━━━━━━━━━━━━━━━━━━━━━━━\u001b[0m \u001b[32m337.4/337.4 kB\u001b[0m \u001b[31m29.8 MB/s\u001b[0m eta \u001b[36m0:00:00\u001b[0m\n",
            "\u001b[2K     \u001b[90m━━━━━━━━━━━━━━━━━━━━━━━━━━━━━━━━━━━━━━━━\u001b[0m \u001b[32m57.6/57.6 kB\u001b[0m \u001b[31m7.4 MB/s\u001b[0m eta \u001b[36m0:00:00\u001b[0m\n",
            "\u001b[2K     \u001b[90m━━━━━━━━━━━━━━━━━━━━━━━━━━━━━━━━━━━━━━━━\u001b[0m \u001b[32m10.5/10.5 MB\u001b[0m \u001b[31m77.5 MB/s\u001b[0m eta \u001b[36m0:00:00\u001b[0m\n",
            "\u001b[2K     \u001b[90m━━━━━━━━━━━━━━━━━━━━━━━━━━━━━━━━━━━━━━━━\u001b[0m \u001b[32m2.4/2.4 MB\u001b[0m \u001b[31m81.4 MB/s\u001b[0m eta \u001b[36m0:00:00\u001b[0m\n",
            "\u001b[2K     \u001b[90m━━━━━━━━━━━━━━━━━━━━━━━━━━━━━━━━━━━━━━━━\u001b[0m \u001b[32m92.1/92.1 kB\u001b[0m \u001b[31m12.8 MB/s\u001b[0m eta \u001b[36m0:00:00\u001b[0m\n",
            "\u001b[2K     \u001b[90m━━━━━━━━━━━━━━━━━━━━━━━━━━━━━━━━━━━━━━━━\u001b[0m \u001b[32m60.8/60.8 kB\u001b[0m \u001b[31m8.3 MB/s\u001b[0m eta \u001b[36m0:00:00\u001b[0m\n",
            "\u001b[2K     \u001b[90m━━━━━━━━━━━━━━━━━━━━━━━━━━━━━━━━━━━━━━━━\u001b[0m \u001b[32m41.3/41.3 kB\u001b[0m \u001b[31m5.2 MB/s\u001b[0m eta \u001b[36m0:00:00\u001b[0m\n",
            "\u001b[2K     \u001b[90m━━━━━━━━━━━━━━━━━━━━━━━━━━━━━━━━━━━━━━━━\u001b[0m \u001b[32m5.4/5.4 MB\u001b[0m \u001b[31m61.3 MB/s\u001b[0m eta \u001b[36m0:00:00\u001b[0m\n",
            "\u001b[2K     \u001b[90m━━━━━━━━━━━━━━━━━━━━━━━━━━━━━━━━━━━━━━━━\u001b[0m \u001b[32m6.8/6.8 MB\u001b[0m \u001b[31m46.3 MB/s\u001b[0m eta \u001b[36m0:00:00\u001b[0m\n",
            "\u001b[2K     \u001b[90m━━━━━━━━━━━━━━━━━━━━━━━━━━━━━━━━━━━━━━━━\u001b[0m \u001b[32m67.3/67.3 kB\u001b[0m \u001b[31m8.4 MB/s\u001b[0m eta \u001b[36m0:00:00\u001b[0m\n",
            "\u001b[?25h  Installing build dependencies ... \u001b[?25l\u001b[?25hdone\n",
            "  Getting requirements to build wheel ... \u001b[?25l\u001b[?25hdone\n",
            "  Preparing metadata (pyproject.toml) ... \u001b[?25l\u001b[?25hdone\n",
            "\u001b[2K     \u001b[90m━━━━━━━━━━━━━━━━━━━━━━━━━━━━━━━━━━━━━━━━\u001b[0m \u001b[32m698.9/698.9 kB\u001b[0m \u001b[31m58.3 MB/s\u001b[0m eta \u001b[36m0:00:00\u001b[0m\n",
            "\u001b[2K     \u001b[90m━━━━━━━━━━━━━━━━━━━━━━━━━━━━━━━━━━━━━━━━\u001b[0m \u001b[32m1.6/1.6 MB\u001b[0m \u001b[31m85.3 MB/s\u001b[0m eta \u001b[36m0:00:00\u001b[0m\n",
            "\u001b[2K     \u001b[90m━━━━━━━━━━━━━━━━━━━━━━━━━━━━━━━━━━━━━━━━\u001b[0m \u001b[32m67.6/67.6 kB\u001b[0m \u001b[31m9.9 MB/s\u001b[0m eta \u001b[36m0:00:00\u001b[0m\n",
            "\u001b[2K     \u001b[90m━━━━━━━━━━━━━━━━━━━━━━━━━━━━━━━━━━━━━━━━\u001b[0m \u001b[32m233.4/233.4 kB\u001b[0m \u001b[31m23.6 MB/s\u001b[0m eta \u001b[36m0:00:00\u001b[0m\n",
            "\u001b[2K     \u001b[90m━━━━━━━━━━━━━━━━━━━━━━━━━━━━━━━━━━━━━━━━\u001b[0m \u001b[32m131.5/131.5 kB\u001b[0m \u001b[31m11.1 MB/s\u001b[0m eta \u001b[36m0:00:00\u001b[0m\n",
            "\u001b[2K     \u001b[90m━━━━━━━━━━━━━━━━━━━━━━━━━━━━━━━━━━━━━━━━\u001b[0m \u001b[32m278.2/278.2 kB\u001b[0m \u001b[31m27.4 MB/s\u001b[0m eta \u001b[36m0:00:00\u001b[0m\n",
            "\u001b[2K     \u001b[90m━━━━━━━━━━━━━━━━━━━━━━━━━━━━━━━━━━━━━━━━\u001b[0m \u001b[32m71.1/71.1 kB\u001b[0m \u001b[31m10.5 MB/s\u001b[0m eta \u001b[36m0:00:00\u001b[0m\n",
            "\u001b[2K     \u001b[90m━━━━━━━━━━━━━━━━━━━━━━━━━━━━━━━━━━━━━━━━\u001b[0m \u001b[32m3.0/3.0 MB\u001b[0m \u001b[31m52.4 MB/s\u001b[0m eta \u001b[36m0:00:00\u001b[0m\n",
            "\u001b[2K     \u001b[90m━━━━━━━━━━━━━━━━━━━━━━━━━━━━━━━━━━━━━━━━\u001b[0m \u001b[32m342.2/342.2 kB\u001b[0m \u001b[31m29.9 MB/s\u001b[0m eta \u001b[36m0:00:00\u001b[0m\n",
            "\u001b[2K     \u001b[90m━━━━━━━━━━━━━━━━━━━━━━━━━━━━━━━━━━━━━━━━\u001b[0m \u001b[32m195.4/195.4 kB\u001b[0m \u001b[31m22.0 MB/s\u001b[0m eta \u001b[36m0:00:00\u001b[0m\n",
            "\u001b[2K     \u001b[90m━━━━━━━━━━━━━━━━━━━━━━━━━━━━━━━━━━━━━━━━\u001b[0m \u001b[32m21.6/21.6 MB\u001b[0m \u001b[31m60.8 MB/s\u001b[0m eta \u001b[36m0:00:00\u001b[0m\n",
            "\u001b[2K     \u001b[90m━━━━━━━━━━━━━━━━━━━━━━━━━━━━━━━━━━━━━━━━\u001b[0m \u001b[32m467.2/467.2 kB\u001b[0m \u001b[31m46.2 MB/s\u001b[0m eta \u001b[36m0:00:00\u001b[0m\n",
            "\u001b[2K     \u001b[90m━━━━━━━━━━━━━━━━━━━━━━━━━━━━━━━━━━━━━━━━\u001b[0m \u001b[32m78.7/78.7 kB\u001b[0m \u001b[31m9.6 MB/s\u001b[0m eta \u001b[36m0:00:00\u001b[0m\n",
            "\u001b[2K     \u001b[90m━━━━━━━━━━━━━━━━━━━━━━━━━━━━━━━━━━━━━━━━\u001b[0m \u001b[32m71.5/71.5 kB\u001b[0m \u001b[31m8.5 MB/s\u001b[0m eta \u001b[36m0:00:00\u001b[0m\n",
            "\u001b[2K     \u001b[90m━━━━━━━━━━━━━━━━━━━━━━━━━━━━━━━━━━━━━━━━\u001b[0m \u001b[32m62.7/62.7 kB\u001b[0m \u001b[31m7.9 MB/s\u001b[0m eta \u001b[36m0:00:00\u001b[0m\n",
            "\u001b[2K     \u001b[90m━━━━━━━━━━━━━━━━━━━━━━━━━━━━━━━━━━━━━━━━\u001b[0m \u001b[32m46.0/46.0 kB\u001b[0m \u001b[31m6.2 MB/s\u001b[0m eta \u001b[36m0:00:00\u001b[0m\n",
            "\u001b[2K     \u001b[90m━━━━━━━━━━━━━━━━━━━━━━━━━━━━━━━━━━━━━━━━\u001b[0m \u001b[32m856.7/856.7 kB\u001b[0m \u001b[31m63.2 MB/s\u001b[0m eta \u001b[36m0:00:00\u001b[0m\n",
            "\u001b[2K     \u001b[90m━━━━━━━━━━━━━━━━━━━━━━━━━━━━━━━━━━━━━━━━\u001b[0m \u001b[32m98.7/98.7 kB\u001b[0m \u001b[31m12.4 MB/s\u001b[0m eta \u001b[36m0:00:00\u001b[0m\n",
            "\u001b[2K     \u001b[90m━━━━━━━━━━━━━━━━━━━━━━━━━━━━━━━━━━━━━━━━\u001b[0m \u001b[32m341.4/341.4 kB\u001b[0m \u001b[31m38.3 MB/s\u001b[0m eta \u001b[36m0:00:00\u001b[0m\n",
            "\u001b[2K     \u001b[90m━━━━━━━━━━━━━━━━━━━━━━━━━━━━━━━━━━━━━━━━\u001b[0m \u001b[32m3.4/3.4 MB\u001b[0m \u001b[31m87.2 MB/s\u001b[0m eta \u001b[36m0:00:00\u001b[0m\n",
            "\u001b[2K     \u001b[90m━━━━━━━━━━━━━━━━━━━━━━━━━━━━━━━━━━━━━━━━\u001b[0m \u001b[32m1.3/1.3 MB\u001b[0m \u001b[31m74.8 MB/s\u001b[0m eta \u001b[36m0:00:00\u001b[0m\n",
            "\u001b[2K     \u001b[90m━━━━━━━━━━━━━━━━━━━━━━━━━━━━━━━━━━━━━━━━\u001b[0m \u001b[32m130.2/130.2 kB\u001b[0m \u001b[31m18.2 MB/s\u001b[0m eta \u001b[36m0:00:00\u001b[0m\n",
            "\u001b[2K     \u001b[90m━━━━━━━━━━━━━━━━━━━━━━━━━━━━━━━━━━━━━━━━\u001b[0m \u001b[32m194.4/194.4 kB\u001b[0m \u001b[31m26.4 MB/s\u001b[0m eta \u001b[36m0:00:00\u001b[0m\n",
            "\u001b[2K     \u001b[90m━━━━━━━━━━━━━━━━━━━━━━━━━━━━━━━━━━━━━━━━\u001b[0m \u001b[32m2.1/2.1 MB\u001b[0m \u001b[31m69.3 MB/s\u001b[0m eta \u001b[36m0:00:00\u001b[0m\n",
            "\u001b[2K     \u001b[90m━━━━━━━━━━━━━━━━━━━━━━━━━━━━━━━━━━━━━━━━\u001b[0m \u001b[32m3.0/3.0 MB\u001b[0m \u001b[31m78.3 MB/s\u001b[0m eta \u001b[36m0:00:00\u001b[0m\n",
            "\u001b[2K     \u001b[90m━━━━━━━━━━━━━━━━━━━━━━━━━━━━━━━━━━━━━━━━\u001b[0m \u001b[32m86.8/86.8 kB\u001b[0m \u001b[31m12.9 MB/s\u001b[0m eta \u001b[36m0:00:00\u001b[0m\n",
            "\u001b[?25h  Building wheel for pypika (pyproject.toml) ... \u001b[?25l\u001b[?25hdone\n"
          ]
        }
      ]
    },
    {
      "cell_type": "code",
      "source": [
        "!pip install python-dotenv"
      ],
      "metadata": {
        "colab": {
          "base_uri": "https://localhost:8080/"
        },
        "id": "JaHUS0XymgKM",
        "outputId": "a6b18457-bcbd-41cb-bd75-e8b256f1e95d"
      },
      "execution_count": 3,
      "outputs": [
        {
          "output_type": "stream",
          "name": "stdout",
          "text": [
            "Requirement already satisfied: python-dotenv in /usr/local/lib/python3.10/dist-packages (1.0.0)\n"
          ]
        }
      ]
    },
    {
      "cell_type": "code",
      "source": [
        "%load_ext dotenv"
      ],
      "metadata": {
        "id": "7zF4gKHZpIcM"
      },
      "execution_count": 4,
      "outputs": []
    },
    {
      "cell_type": "code",
      "source": [
        "%dotenv"
      ],
      "metadata": {
        "id": "D80dszznpK65"
      },
      "execution_count": 5,
      "outputs": []
    },
    {
      "cell_type": "code",
      "source": [
        "import os\n",
        "from crewai import Agent, Task, Crew, Process\n",
        "from crewai_tools import SerperDevTool"
      ],
      "metadata": {
        "id": "7V3t_GmApRgb"
      },
      "execution_count": 6,
      "outputs": []
    },
    {
      "cell_type": "code",
      "source": [
        "search_tool = SerperDevTool()"
      ],
      "metadata": {
        "id": "dbODIfycpcow"
      },
      "execution_count": 7,
      "outputs": []
    },
    {
      "cell_type": "code",
      "source": [
        "from langchain_openai import ChatOpenAI"
      ],
      "metadata": {
        "id": "uFpoQQn1pgbc"
      },
      "execution_count": 8,
      "outputs": []
    },
    {
      "cell_type": "code",
      "source": [
        "#Define roles n goals"
      ],
      "metadata": {
        "id": "NItKmyG3poXS"
      },
      "execution_count": 9,
      "outputs": []
    },
    {
      "cell_type": "code",
      "source": [
        "researcher = Agent(\n",
        "    role = \"Senior Research Assistant\",\n",
        "    goal = \"Look up the latest Advancements in AI Agent\",\n",
        "    backstory = \"\"\" You research AI and\n",
        "    provide insights\"\"\",\n",
        "    verbose = True,\n",
        "    allow_delegration = False,\n",
        "    tools = [search_tool],\n",
        "    llm = ChatOpenAI(model_name=\"gpt-3.5-turbo\", temperature=0.3)\n",
        ")"
      ],
      "metadata": {
        "id": "nCMIFTq_pqlI"
      },
      "execution_count": 10,
      "outputs": []
    },
    {
      "cell_type": "code",
      "source": [
        "writer = Agent(\n",
        "    role='tech content strategist',\n",
        "    goal = 'summarize ai news',\n",
        "    backstory = 'you write great news',\n",
        "    verbose = True,\n",
        "    allow_delegation = True,\n",
        "    llm = ChatOpenAI(model_name=\"gpt-3.5-turbo\", temperature=0.3)\n",
        ")"
      ],
      "metadata": {
        "id": "pyJlMv1hq7wT"
      },
      "execution_count": 11,
      "outputs": []
    },
    {
      "cell_type": "code",
      "source": [
        "task2 = Task(\n",
        "    description=\"Using latest insights provided, summarize the news and make it interesting\",\n",
        "    expected_output = \"Full blog post\",\n",
        "    agent=writer\n",
        ")"
      ],
      "metadata": {
        "id": "lMACrRhApvwr"
      },
      "execution_count": 12,
      "outputs": []
    },
    {
      "cell_type": "code",
      "source": [
        "task1 = Task(\n",
        "    description = \"conduct analysis and provide insights on AI\",\n",
        "    expected_output = 'full analysis in bullet points',\n",
        "    agent = researcher\n",
        ")"
      ],
      "metadata": {
        "id": "tw6S-LbSsHL-"
      },
      "execution_count": 13,
      "outputs": []
    },
    {
      "cell_type": "code",
      "source": [
        "crew = Crew(\n",
        "    agents = [researcher, writer],\n",
        "    tasks = [task1, task2],\n",
        "    verbose = 2,\n",
        ")"
      ],
      "metadata": {
        "id": "YK7gWKtHr5f9"
      },
      "execution_count": 14,
      "outputs": []
    },
    {
      "cell_type": "code",
      "source": [
        "result = crew.kickoff()\n",
        "print(\"------------\")\n",
        "print(result)"
      ],
      "metadata": {
        "colab": {
          "base_uri": "https://localhost:8080/"
        },
        "id": "ALPgbBppsfga",
        "outputId": "f157547e-8ee2-41e6-e5e8-3f8a160b5201"
      },
      "execution_count": 15,
      "outputs": [
        {
          "output_type": "stream",
          "name": "stdout",
          "text": [
            "\u001b[1m\u001b[93m [DEBUG]: == Working Agent: Senior Research Assistant\u001b[00m\n",
            "\u001b[1m\u001b[93m [INFO]: == Starting Task: conduct analysis and provide insights on AI\u001b[00m\n",
            "\n",
            "\n",
            "\u001b[1m> Entering new CrewAgentExecutor chain...\u001b[0m\n",
            "\u001b[32;1m\u001b[1;3mI need to look up the latest advancements in AI agents to conduct a thorough analysis and provide insights.\n",
            "\n",
            "Action: Search the internet\n",
            "Action Input: {\"search_query\": \"latest advancements in AI agents\"}\u001b[0m\u001b[93m \n",
            "\n",
            "\n",
            "Search results: Title: Forget Chatbots. AI Agents Are the Future - WIRED\n",
            "Link: https://www.wired.com/story/fast-forward-forget-chatbots-ai-agents-are-the-future/\n",
            "Snippet: The breakthroughs and innovations that we uncover lead to new ways of thinking, new connections, and new industries. More From WIRED.\n",
            "---\n",
            "Title: AI agents: Driving the next wave of digital transformation - LinkedIn\n",
            "Link: https://www.linkedin.com/pulse/ai-agents-driving-next-wave-digital-transformation-allen-adams-sp0mc\n",
            "Snippet: Through advanced data mining techniques and deep learning models, AI agents analyze trends, patterns, and anomalies in large datasets. They ...\n",
            "---\n",
            "Title: AI Agents in 2024: Transformative Trends and Evolving Roles\n",
            "Link: https://medium.com/@aayushkumargupta/ai-agents-in-2024-transformative-trends-and-evolving-roles-f51e9fefd294\n",
            "Snippet: In essence, 2024 is poised to be a transformative year for AI agents, witnessing their evolution from basic functionalities to more specialized, ...\n",
            "---\n",
            "Title: AI Agents Are Coming! Here's What To Expect... - YouTube\n",
            "Link: https://www.youtube.com/watch?v=flvBnAdYWNM\n",
            "Snippet: Comments29 ; The 10 Biggest AI Advances of 2024 · New 1.2K views ; Why this top AI guru ...\n",
            "---\n",
            "Title: The Future is Here - How AI Agents Will Transform Work\n",
            "Link: https://promptengineering.org/the-rise-of-ai-agents-navigating-the-future-of-autonomous-software/\n",
            "Snippet: AI agents are transforming work across industries through advanced language models and automation. This article explores their capabilities, ...\n",
            "---\n",
            "Title: Beyond Automation: The Era of AI Agents - Sidecar Global\n",
            "Link: https://sidecarglobal.com/blog/beyond-automation-the-era-of-ai-agents\n",
            "Snippet: This blog post explores how AI Agents can revolutionize tasks, enhance member engagement, and navigate the complexities of ethical AI use ...\n",
            "---\n",
            "Title: AI agents unleashed: a new era of efficiency - Thoughtworks\n",
            "Link: https://www.thoughtworks.com/en-us/insights/blog/machine-learning-and-ai/ai-agents-unleashed-new-era-efficiency\n",
            "Snippet: Explore the concept of AI agents, one of the key trends that emerged in Thoughtworks Looking Glass 2024 report.\n",
            "---\n",
            "Title: AI Agents Assemble For The Automation Revolution - Forbes\n",
            "Link: https://www.forbes.com/sites/sylvainduranton/2023/12/07/ai-agents-assemble-for-the-automation-revolution/\n",
            "Snippet: The recent step-change in AI opens new avenues for the development of artificial intelligence agents, independent programs or pieces of ...\n",
            "---\n",
            "Title: OpenAI working on 2 AI agents that could automate complex tasks\n",
            "Link: https://indianexpress.com/article/technology/artificial-intelligence/openai-2-agents-automate-complex-tasks-9154880/\n",
            "Snippet: OpenAI's latest advancement merges capabilities of various GPTs, advancing toward personalised, universal AI assistance. The company's plans ...\n",
            "---\n",
            "\n",
            "\u001b[00m\n",
            "\u001b[32;1m\u001b[1;3mFinal Answer: \n",
            "\n",
            "- AI agents are seen as the future of AI technology, surpassing traditional chatbots.\n",
            "- They are driving the next wave of digital transformation by analyzing trends, patterns, and anomalies in large datasets.\n",
            "- In 2024, AI agents are expected to evolve from basic functionalities to more specialized roles.\n",
            "- AI agents are transforming work across industries through advanced language models and automation.\n",
            "- They have the potential to revolutionize tasks, enhance member engagement, and navigate the complexities of ethical AI use.\n",
            "- OpenAI is working on two AI agents that could automate complex tasks by merging capabilities of various GPTs.\u001b[0m\n",
            "\n",
            "\u001b[1m> Finished chain.\u001b[0m\n",
            "\u001b[1m\u001b[92m [DEBUG]: == [Senior Research Assistant] Task output: - AI agents are seen as the future of AI technology, surpassing traditional chatbots.\n",
            "- They are driving the next wave of digital transformation by analyzing trends, patterns, and anomalies in large datasets.\n",
            "- In 2024, AI agents are expected to evolve from basic functionalities to more specialized roles.\n",
            "- AI agents are transforming work across industries through advanced language models and automation.\n",
            "- They have the potential to revolutionize tasks, enhance member engagement, and navigate the complexities of ethical AI use.\n",
            "- OpenAI is working on two AI agents that could automate complex tasks by merging capabilities of various GPTs.\n",
            "\n",
            "\u001b[00m\n",
            "\u001b[1m\u001b[93m [DEBUG]: == Working Agent: tech content strategist\u001b[00m\n",
            "\u001b[1m\u001b[93m [INFO]: == Starting Task: Using latest insights provided, summarize the news and make it interesting\u001b[00m\n",
            "\n",
            "\n",
            "\u001b[1m> Entering new CrewAgentExecutor chain...\u001b[0m\n",
            "\u001b[32;1m\u001b[1;3mI need to summarize the latest AI news in a compelling way to engage readers and showcase the advancements in AI technology.\n",
            "\n",
            "Action: Delegate work to co-worker\n",
            "Action Input: {\"coworker\": \"Senior Research Assistant\", \"task\": \"Summarize the latest AI news with a focus on AI agents and their impact on digital transformation and work across industries\", \"context\": \"AI agents are seen as the future of AI technology, surpassing traditional chatbots. They are driving the next wave of digital transformation by analyzing trends, patterns, and anomalies in large datasets. In 2024, AI agents are expected to evolve from basic functionalities to more specialized roles. AI agents are transforming work across industries through advanced language models and automation. They have the potential to revolutionize tasks, enhance member engagement, and navigate the complexities of ethical AI use. OpenAI is working on two AI agents that could automate complex tasks by merging capabilities of various GPTs.\"}\u001b[0m\n",
            "\n",
            "\u001b[1m> Entering new CrewAgentExecutor chain...\u001b[0m\n",
            "\u001b[32;1m\u001b[1;3mI need to research the latest advancements in AI agents to provide insights on their impact on digital transformation and work across industries.\n",
            "\n",
            "Action: Search the internet\n",
            "Action Input: {\"search_query\": \"latest advancements in AI agents 2024\"}\u001b[0m\u001b[93m \n",
            "\n",
            "\n",
            "Search results: Title: What Will 2024 Hold In AI Advancements? - Forbes\n",
            "Link: https://www.forbes.com/sites/cindygordon/2023/12/26/what-will-2023-hold-in-ai-advancements/\n",
            "Snippet: AI ethical draft laws will finally start to be legalized in the EU by Q4 2024. · Generative AI will continue to go mainstream, and share prices ...\n",
            "---\n",
            "Title: The explosion of AI Agents in 2024-2026 - LinkedIn\n",
            "Link: https://www.linkedin.com/pulse/explosion-ai-agents-2024-2026-frank-frisby-mfgle\n",
            "Snippet: Phase 7 - Emergence of Primitive AGI Systems: Here, agents evolve into fully autonomous, primitive Artificial General Intelligence (AGI) ...\n",
            "---\n",
            "Title: The State of AI Agents March 2024: Slow, Inaccurate & Emerging\n",
            "Link: https://medium.com/@agentcrafter/the-state-of-ai-agents-march-2024-slow-inaccurate-emerging-1c1fb176bc28\n",
            "Snippet: March 2024 marks a pivotal point in the evolution of AI agents, witnessing significant advancements and ongoing discussions around their impact.\n",
            "---\n",
            "Title: Exploring The Future: 5 Cutting-Edge Generative AI Trends In 2024\n",
            "Link: https://www.forbes.com/sites/janakirammsv/2024/01/02/exploring-the-future-5-cutting-edge-generative-ai-trends-in-2024/\n",
            "Snippet: In 2024, multimodal AI is expected to evolve significantly, ushering in a shift in generative AI capabilities. These models are progressing ...\n",
            "---\n",
            "Title: How 2024 Will Be A.I.'s 'Leap Forward' - The New York Times\n",
            "Link: https://www.nytimes.com/2024/01/08/technology/ai-robots-chatbots-2024.html\n",
            "Snippet: A.I. is set to advance at a rapid rate, becoming more powerful and spreading into the physical world.\n",
            "---\n",
            "Title: The power of AI agents in 2024: Transforming our world\n",
            "Link: https://digileaders.com/the-power-of-ai-agents-in-2024-transforming-our-world/\n",
            "Snippet: In 2024, AI Agents are proving to be more than just digital assistants; they are catalysts for transformative change across industries and in ...\n",
            "---\n",
            "Title: AI Agents 2024 Predictions: Reshaping Business & Life - Medium\n",
            "Link: https://medium.com/@bakingai/ai-agents-2024-predictions-reshaping-business-life-a0d0a24d4608\n",
            "Snippet: AI agent specialization: In 2024, we'll likely witness a shift toward more specialized AI models and tools created for specific purposes.\n",
            "---\n",
            "Title: A Look at the Key Trends in Artificial Intelligence for 2024\n",
            "Link: https://softwaremind.com/blog/a-look-at-the-key-trends-in-artificial-intelligence-for-2024/\n",
            "Snippet: With the next phase of the AI evolution resonating over various industries, let's look at the pivotal trends in AI worth following in 2024.\n",
            "---\n",
            "Title: The most important AI trends in 2024 - IBM Blog\n",
            "Link: https://www.ibm.com/blog/artificial-intelligence-trends/\n",
            "Snippet: The most important AI trends in 2024 · Reality check: more realistic expectations · Multimodal AI (and video) · Small(er) language models and open ...\n",
            "---\n",
            "\n",
            "\u001b[00m\n",
            "\u001b[32;1m\u001b[1;3mFinal Answer: \n",
            "After conducting a search on the latest advancements in AI agents for 2024, several key insights have been gathered:\n",
            "\n",
            "1. Forbes predicts that AI ethical draft laws will start to be legalized in the EU by Q4 2024, and generative AI will continue to go mainstream.\n",
            "2. LinkedIn discusses the emergence of primitive AGI systems in 2024-2026, where AI agents evolve into fully autonomous, primitive Artificial General Intelligence.\n",
            "3. Medium highlights the significant advancements and ongoing discussions around the impact of AI agents in March 2024.\n",
            "4. Forbes also mentions that multimodal AI is expected to evolve significantly in 2024, ushering in a shift in generative AI capabilities.\n",
            "5. The New York Times states that AI is set to advance rapidly in 2024, becoming more powerful and spreading into the physical world.\n",
            "6. DigiLeaders emphasizes that AI agents in 2024 are catalysts for transformative change across industries.\n",
            "7. Medium predicts a shift towards more specialized AI models and tools created for specific purposes in 2024.\n",
            "8. SoftwareMind looks at the pivotal trends in AI for 2024, resonating across various industries.\n",
            "9. IBM Blog discusses important AI trends for 2024, including more realistic expectations, multimodal AI, small(er) language models, and open AI.\n",
            "\n",
            "These insights collectively show that AI agents are expected to play a crucial role in digital transformation and work across industries in 2024, with advancements in ethics, generative capabilities, specialization, and transformative impact.\u001b[0m\n",
            "\n",
            "\u001b[1m> Finished chain.\u001b[0m\n",
            "\u001b[93m \n",
            "\n",
            "After conducting a search on the latest advancements in AI agents for 2024, several key insights have been gathered:\n",
            "\n",
            "1. Forbes predicts that AI ethical draft laws will start to be legalized in the EU by Q4 2024, and generative AI will continue to go mainstream.\n",
            "2. LinkedIn discusses the emergence of primitive AGI systems in 2024-2026, where AI agents evolve into fully autonomous, primitive Artificial General Intelligence.\n",
            "3. Medium highlights the significant advancements and ongoing discussions around the impact of AI agents in March 2024.\n",
            "4. Forbes also mentions that multimodal AI is expected to evolve significantly in 2024, ushering in a shift in generative AI capabilities.\n",
            "5. The New York Times states that AI is set to advance rapidly in 2024, becoming more powerful and spreading into the physical world.\n",
            "6. DigiLeaders emphasizes that AI agents in 2024 are catalysts for transformative change across industries.\n",
            "7. Medium predicts a shift towards more specialized AI models and tools created for specific purposes in 2024.\n",
            "8. SoftwareMind looks at the pivotal trends in AI for 2024, resonating across various industries.\n",
            "9. IBM Blog discusses important AI trends for 2024, including more realistic expectations, multimodal AI, small(er) language models, and open AI.\n",
            "\n",
            "These insights collectively show that AI agents are expected to play a crucial role in digital transformation and work across industries in 2024, with advancements in ethics, generative capabilities, specialization, and transformative impact.\n",
            "\u001b[00m\n",
            "\u001b[32;1m\u001b[1;3mFinal Answer: \n",
            "\n",
            "The latest advancements in AI agents for 2024 are shaping up to be truly transformative. Forbes predicts the legalization of AI ethical draft laws in the EU by Q4 2024, alongside the mainstream adoption of generative AI. LinkedIn foresees the emergence of primitive AGI systems between 2024-2026, marking a significant step towards fully autonomous Artificial General Intelligence. Medium and Forbes both highlight the evolution of multimodal AI capabilities, signaling a shift in generative AI potential.\n",
            "\n",
            "Moreover, The New York Times anticipates AI's rapid advancement in 2024, expanding its influence into the physical world. DigiLeaders and Medium emphasize the catalytic role of AI agents in driving transformative change across industries. SoftwareMind and IBM Blog delve into the pivotal trends in AI for 2024, focusing on specialized models, realistic expectations, and the impact of open AI.\n",
            "\n",
            "These insights collectively paint a picture of AI agents revolutionizing digital transformation and work across industries in 2024. With advancements in ethics, generative capabilities, specialization, and transformative impact, AI agents are set to redefine the landscape of AI technology in the coming year.\u001b[0m\n",
            "\n",
            "\u001b[1m> Finished chain.\u001b[0m\n",
            "\u001b[1m\u001b[92m [DEBUG]: == [tech content strategist] Task output: The latest advancements in AI agents for 2024 are shaping up to be truly transformative. Forbes predicts the legalization of AI ethical draft laws in the EU by Q4 2024, alongside the mainstream adoption of generative AI. LinkedIn foresees the emergence of primitive AGI systems between 2024-2026, marking a significant step towards fully autonomous Artificial General Intelligence. Medium and Forbes both highlight the evolution of multimodal AI capabilities, signaling a shift in generative AI potential.\n",
            "\n",
            "Moreover, The New York Times anticipates AI's rapid advancement in 2024, expanding its influence into the physical world. DigiLeaders and Medium emphasize the catalytic role of AI agents in driving transformative change across industries. SoftwareMind and IBM Blog delve into the pivotal trends in AI for 2024, focusing on specialized models, realistic expectations, and the impact of open AI.\n",
            "\n",
            "These insights collectively paint a picture of AI agents revolutionizing digital transformation and work across industries in 2024. With advancements in ethics, generative capabilities, specialization, and transformative impact, AI agents are set to redefine the landscape of AI technology in the coming year.\n",
            "\n",
            "\u001b[00m\n",
            "------------\n",
            "The latest advancements in AI agents for 2024 are shaping up to be truly transformative. Forbes predicts the legalization of AI ethical draft laws in the EU by Q4 2024, alongside the mainstream adoption of generative AI. LinkedIn foresees the emergence of primitive AGI systems between 2024-2026, marking a significant step towards fully autonomous Artificial General Intelligence. Medium and Forbes both highlight the evolution of multimodal AI capabilities, signaling a shift in generative AI potential.\n",
            "\n",
            "Moreover, The New York Times anticipates AI's rapid advancement in 2024, expanding its influence into the physical world. DigiLeaders and Medium emphasize the catalytic role of AI agents in driving transformative change across industries. SoftwareMind and IBM Blog delve into the pivotal trends in AI for 2024, focusing on specialized models, realistic expectations, and the impact of open AI.\n",
            "\n",
            "These insights collectively paint a picture of AI agents revolutionizing digital transformation and work across industries in 2024. With advancements in ethics, generative capabilities, specialization, and transformative impact, AI agents are set to redefine the landscape of AI technology in the coming year.\n"
          ]
        }
      ]
    }
  ]
}